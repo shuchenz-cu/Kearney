{
 "cells": [
  {
   "cell_type": "code",
   "execution_count": 9,
   "id": "9edf150a",
   "metadata": {},
   "outputs": [
    {
     "name": "stdout",
     "output_type": "stream",
     "text": [
      "Dash is running on http://0.0.0.0:1234/\n",
      "\n",
      " * Serving Flask app \"__main__\" (lazy loading)\n",
      " * Environment: production\n",
      "\u001b[31m   WARNING: This is a development server. Do not use it in a production deployment.\u001b[0m\n",
      "\u001b[2m   Use a production WSGI server instead.\u001b[0m\n",
      " * Debug mode: off\n"
     ]
    },
    {
     "name": "stderr",
     "output_type": "stream",
     "text": [
      " * Running on all addresses.\n",
      "   WARNING: This is a development server. Do not use it in a production deployment.\n",
      " * Running on http://192.168.4.70:1234/ (Press CTRL+C to quit)\n",
      "192.168.4.70 - - [10/Jan/2023 00:40:52] \"GET / HTTP/1.1\" 200 -\n",
      "192.168.4.70 - - [10/Jan/2023 00:40:52] \"GET /_dash-component-suites/dash/deps/react@16.v2_3_1m1666632423.14.0.min.js HTTP/1.1\" 200 -\n",
      "192.168.4.70 - - [10/Jan/2023 00:40:52] \"GET /_dash-component-suites/dash/deps/react-dom@16.v2_3_1m1666632423.14.0.min.js HTTP/1.1\" 200 -\n",
      "192.168.4.70 - - [10/Jan/2023 00:40:52] \"GET /_dash-component-suites/dash_daq/dash_daq.v0_5_0m1672729200.min.js HTTP/1.1\" 200 -\n",
      "192.168.4.70 - - [10/Jan/2023 00:40:52] \"GET /_dash-component-suites/dash/dcc/dash_core_components-shared.v2_3_0m1666632423.js HTTP/1.1\" 200 -\n",
      "192.168.4.70 - - [10/Jan/2023 00:40:52] \"GET /_dash-component-suites/dash/html/dash_html_components.v2_0_2m1666632423.min.js HTTP/1.1\" 200 -\n",
      "192.168.4.70 - - [10/Jan/2023 00:40:52] \"GET /_dash-component-suites/dash/dash_table/bundle.v5_1_1m1666632423.js HTTP/1.1\" 200 -\n",
      "192.168.4.70 - - [10/Jan/2023 00:40:53] \"GET /_dash-layout HTTP/1.1\" 200 -\n",
      "192.168.4.70 - - [10/Jan/2023 00:40:53] \"GET /_dash-dependencies HTTP/1.1\" 200 -\n",
      "192.168.4.70 - - [10/Jan/2023 00:40:53] \"GET /_dash-component-suites/dash/dcc/async-dropdown.js HTTP/1.1\" 200 -\n",
      "192.168.4.70 - - [10/Jan/2023 00:40:53] \"GET /_favicon.ico?v=2.3.1 HTTP/1.1\" 200 -\n"
     ]
    },
    {
     "name": "stdout",
     "output_type": "stream",
     "text": [
      "Exception on /_dash-update-component [POST]\n",
      "Traceback (most recent call last):\n",
      "  File \"/Users/shuchenz/opt/anaconda3/lib/python3.9/site-packages/flask/app.py\", line 2447, in wsgi_app\n",
      "    response = self.full_dispatch_request()\n",
      "  File \"/Users/shuchenz/opt/anaconda3/lib/python3.9/site-packages/flask/app.py\", line 1952, in full_dispatch_request\n",
      "    rv = self.handle_user_exception(e)\n",
      "  File \"/Users/shuchenz/opt/anaconda3/lib/python3.9/site-packages/flask/app.py\", line 1821, in handle_user_exception\n",
      "    reraise(exc_type, exc_value, tb)\n",
      "  File \"/Users/shuchenz/opt/anaconda3/lib/python3.9/site-packages/flask/_compat.py\", line 39, in reraise\n",
      "    raise value\n",
      "  File \"/Users/shuchenz/opt/anaconda3/lib/python3.9/site-packages/flask/app.py\", line 1950, in full_dispatch_request\n",
      "    rv = self.dispatch_request()\n",
      "  File \"/Users/shuchenz/opt/anaconda3/lib/python3.9/site-packages/flask/app.py\", line 1936, in dispatch_request\n",
      "    return self.view_functions[rule.endpoint](**req.view_args)\n",
      "  File \"/Users/shuchenz/opt/anaconda3/lib/python3.9/site-packages/dash/dash.py\", line 1383, in dispatch\n",
      "    response.set_data(func(*args, outputs_list=outputs_list))\n",
      "  File \"/Users/shuchenz/opt/anaconda3/lib/python3.9/site-packages/dash/_callback.py\", line 151, in add_context\n",
      "    output_value = func(*func_args, **func_kwargs)  # %% callback invoked %%\n",
      "  File \"/var/folders/j3/njl9qzcj0lbb505pgvr7gsrh0000gn/T/ipykernel_9441/1292534895.py\", line 60, in update_output\n",
      "    return f'{len(ing_list)} item(s) has been selected'\n",
      "TypeError: object of type 'NoneType' has no len()\n"
     ]
    },
    {
     "name": "stderr",
     "output_type": "stream",
     "text": [
      "192.168.4.70 - - [10/Jan/2023 00:40:53] \"POST /_dash-update-component HTTP/1.1\" 500 -\n"
     ]
    }
   ],
   "source": [
    "import pandas as pd\n",
    "df = pd.read_csv('/Users/shuchenz/Desktop/Ops_Con/Kearney/Proj2/ingredients_big7.csv')\n",
    "\n",
    "### Build dash layout\n",
    "from dash import Dash, dcc, html, Input, Output\n",
    "import dash_daq as daq\n",
    "dropdown = dcc.Dropdown(df.Descrip, df.Descrip[0], multi=True, id='Ingredient Selection',  optionHeight=300)\n",
    "\n",
    "### Changing the dashboard layout\n",
    "app = Dash(__name__)\n",
    "app.layout = html.Div([\n",
    "    html.Div([\n",
    "        html.H6(\"Input Big 7 values and ingredients below\"),\n",
    "        daq.NumericInput(label='Serving Size(in grams)',id='size', value=0, size=120),\n",
    "        daq.NumericInput(label='Energy/Calories', id='cal', value=0, size=120),\n",
    "        daq.NumericInput(label='Fats', id='fats', value=0, size=120),\n",
    "        daq.NumericInput(label='Saturated fatty acid', id='saturated', value=0, size=120),\n",
    "        daq.NumericInput(label='Carbonhydrates', id='carbon', value=0, size=120),\n",
    "        daq.NumericInput(label='Sugar', id='sugar', value=0, size=120),\n",
    "        daq.NumericInput(label='Protein', id='protein', value=0, size=120),\n",
    "        daq.NumericInput(label='Salt', id='salt', value=0, size=120)],\n",
    "        style={'display': 'flex', 'flex-direction': 'wrap'}),  \n",
    "    dropdown, \n",
    "    html.Div(id='dd-output-container')\n",
    "])\n",
    "    \n",
    "    \n",
    "#     html.Div([\n",
    "#         dcc.Dropdown(id='dd-output-container')],\n",
    "#         style={'textAlign': 'center'}),  \n",
    "\n",
    "    \n",
    "#     style={'display': 'flex', 'flex-direction': 'wrap'}),dropdown, \n",
    "#             html.Div([(id='dd-output-container'),\n",
    "#         style={'display': 'flex', 'flex-direction': 'wrap'}]\n",
    "#     )\n",
    "# app.layout = html.Div([\n",
    "#     html.H6(\"Change the value in the text box to see callbacks in action!\"),\n",
    "#     daq.NumericInput(label='Serving Size(in grams)',id='size', value=0, size=120),\n",
    "#     daq.NumericInput(label='Energy/Calories', id='cal', value=0, size=120),\n",
    "#     daq.NumericInput(label='Fats', id='fats', value=0, size=120),\n",
    "#     daq.NumericInput(label='Saturated fatty acid', id='saturated', value=0, size=120),\n",
    "#     daq.NumericInput(label='Carbonhydrates', id='carbon', value=0, size=120),\n",
    "#     daq.NumericInput(label='Sugar', id='sugar', value=0, size=120),\n",
    "#     daq.NumericInput(label='Protein', id='protein', value=0, size=120),\n",
    "#     daq.NumericInput(label='Salt', id='salt', value=0, size=120), \n",
    "#     dropdown, \n",
    "#     html.Div(id='dd-output-container')],\n",
    "#     style={'display': 'flex', 'flex-direction': 'wrap'}\n",
    "# )\n",
    "    #style={'display': 'flex', 'flex-direction': 'wrap')\n",
    "\n",
    "### app function updates\n",
    "@app.callback(\n",
    "    Output('dd-output-container', 'children'),\n",
    "    Input('Ingredient Selection', 'ing_list')\n",
    ")\n",
    "        \n",
    "def update_output(ing_list):\n",
    "    return f'{len(ing_list)} item(s) has been selected'\n",
    "\n",
    "def formula(size, cal, fats, saturated, carbon, sugar, protein, salt, ing_list):\n",
    "        print(size, cal, fats, saturated, carbon, sugar, protein, salt, ing_list)\n",
    "\n",
    "if __name__ == '__main__':\n",
    "    app.run_server(debug=False,port=1234,host=\"0.0.0.0\")"
   ]
  },
  {
   "cell_type": "code",
   "execution_count": null,
   "id": "123551c7",
   "metadata": {},
   "outputs": [],
   "source": []
  },
  {
   "cell_type": "code",
   "execution_count": null,
   "id": "78d713aa",
   "metadata": {},
   "outputs": [],
   "source": []
  }
 ],
 "metadata": {
  "kernelspec": {
   "display_name": "base",
   "language": "python",
   "name": "python3"
  },
  "language_info": {
   "codemirror_mode": {
    "name": "ipython",
    "version": 3
   },
   "file_extension": ".py",
   "mimetype": "text/x-python",
   "name": "python",
   "nbconvert_exporter": "python",
   "pygments_lexer": "ipython3",
   "version": "3.9.7"
  },
  "vscode": {
   "interpreter": {
    "hash": "9e12243b3f95223ea6a17b0c20601135a14842524eec993e97c382f5e9f8f9e2"
   }
  }
 },
 "nbformat": 4,
 "nbformat_minor": 5
}
